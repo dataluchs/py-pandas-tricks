{
 "cells": [
  {
   "cell_type": "markdown",
   "source": [
    "# Useful options for pandas\n",
    "This is a short collection of pandas options you can set."
   ],
   "metadata": {
    "collapsed": false
   }
  },
  {
   "cell_type": "code",
   "execution_count": null,
   "metadata": {},
   "outputs": [],
   "source": [
    "import pandas as pd"
   ]
  },
  {
   "cell_type": "code",
   "execution_count": null,
   "metadata": {},
   "outputs": [],
   "source": [
    "# set max columns of dataframe\n",
    "pd.set_option('display.max_columns', 1000)\n",
    "\n",
    "# set max rows of dataframe\n",
    "pd.set_option('display.max_rows', 1000)\n",
    "\n",
    "# set display width of dataframe\n",
    "pd.set_option('display.width', 1000)\n",
    "\n",
    "# set width of dataframe column\n",
    "pd.set_option(\"max_colwidth\", 50)\n",
    "\n",
    "# set info columns\n",
    "pd.set_option(\"max_info_columns\", 5)\n",
    "\n",
    "# set the precision for decimals (decimal number)\n",
    "pd.set_option(\"precision\", 2)\n",
    "\n",
    "# position column name left or right\n",
    "pd.set_option(\"colheader_justify\", \"right\")"
   ]
  },
  {
   "cell_type": "markdown",
   "metadata": {},
   "source": [
    "check all options here https://pandas.pydata.org/pandas-docs/stable/user_guide/options.html#available-options"
   ]
  },
  {
   "cell_type": "markdown",
   "metadata": {},
   "source": [
    "Main relevant functions for generic configuration"
   ]
  },
  {
   "cell_type": "code",
   "execution_count": null,
   "metadata": {},
   "outputs": [],
   "source": [
    "pd.set_option()         # set a single option\n",
    "pd.get_option()         # get single option\n",
    "pd.reset_option()       # resets one or more values\n",
    "pd.describe_option()    # get the descriptions of one or more configs\n",
    "pd.option_context()     # execute codeblock and then reset to prior settings"
   ]
  }
 ],
 "metadata": {
  "kernelspec": {
   "display_name": "Python 3",
   "language": "python",
   "name": "python3"
  },
  "language_info": {
   "codemirror_mode": {
    "name": "ipython",
    "version": 3
   },
   "file_extension": ".py",
   "mimetype": "text/x-python",
   "name": "python",
   "nbconvert_exporter": "python",
   "pygments_lexer": "ipython3",
   "version": "3.6.4"
  }
 },
 "nbformat": 4,
 "nbformat_minor": 2
}