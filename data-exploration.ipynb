{
 "cells": [
  {
   "cell_type": "markdown",
   "metadata": {},
   "source": [
    "# Data Exploration with pandas\n",
    "This notebook is about data exploration with the awesome library pandas."
   ]
  },
  {
   "cell_type": "code",
   "execution_count": 17,
   "metadata": {},
   "outputs": [],
   "source": [
    "import pandas as pd\n",
    "import numpy as np\n",
    "\n",
    "# we will use the famous gapminder dataset\n",
    "from gapminder import gapminder\n",
    "df = gapminder"
   ]
  },
  {
   "cell_type": "markdown",
   "metadata": {},
   "source": [
    "Look at top and bottom of dataset to understand the scope of the dataset.\n",
    "\n",
    "For this we use the functions .head() and .tail() on our dataframe"
   ]
  },
  {
   "cell_type": "code",
   "execution_count": 18,
   "metadata": {},
   "outputs": [
    {
     "data": {
      "text/plain": "       country continent  year  lifeExp       pop   gdpPercap\n0  Afghanistan      Asia  1952   28.801   8425333  779.445314\n1  Afghanistan      Asia  1957   30.332   9240934  820.853030\n2  Afghanistan      Asia  1962   31.997  10267083  853.100710\n3  Afghanistan      Asia  1967   34.020  11537966  836.197138\n4  Afghanistan      Asia  1972   36.088  13079460  739.981106",
      "text/html": "<div>\n<style scoped>\n    .dataframe tbody tr th:only-of-type {\n        vertical-align: middle;\n    }\n\n    .dataframe tbody tr th {\n        vertical-align: top;\n    }\n\n    .dataframe thead th {\n        text-align: right;\n    }\n</style>\n<table border=\"1\" class=\"dataframe\">\n  <thead>\n    <tr style=\"text-align: right;\">\n      <th></th>\n      <th>country</th>\n      <th>continent</th>\n      <th>year</th>\n      <th>lifeExp</th>\n      <th>pop</th>\n      <th>gdpPercap</th>\n    </tr>\n  </thead>\n  <tbody>\n    <tr>\n      <th>0</th>\n      <td>Afghanistan</td>\n      <td>Asia</td>\n      <td>1952</td>\n      <td>28.801</td>\n      <td>8425333</td>\n      <td>779.445314</td>\n    </tr>\n    <tr>\n      <th>1</th>\n      <td>Afghanistan</td>\n      <td>Asia</td>\n      <td>1957</td>\n      <td>30.332</td>\n      <td>9240934</td>\n      <td>820.853030</td>\n    </tr>\n    <tr>\n      <th>2</th>\n      <td>Afghanistan</td>\n      <td>Asia</td>\n      <td>1962</td>\n      <td>31.997</td>\n      <td>10267083</td>\n      <td>853.100710</td>\n    </tr>\n    <tr>\n      <th>3</th>\n      <td>Afghanistan</td>\n      <td>Asia</td>\n      <td>1967</td>\n      <td>34.020</td>\n      <td>11537966</td>\n      <td>836.197138</td>\n    </tr>\n    <tr>\n      <th>4</th>\n      <td>Afghanistan</td>\n      <td>Asia</td>\n      <td>1972</td>\n      <td>36.088</td>\n      <td>13079460</td>\n      <td>739.981106</td>\n    </tr>\n  </tbody>\n</table>\n</div>"
     },
     "execution_count": 18,
     "metadata": {},
     "output_type": "execute_result"
    }
   ],
   "source": [
    "df.head()"
   ]
  },
  {
   "cell_type": "code",
   "execution_count": 19,
   "outputs": [
    {
     "data": {
      "text/plain": "       country continent  year  lifeExp       pop   gdpPercap\n1699  Zimbabwe    Africa  1987   62.351   9216418  706.157306\n1700  Zimbabwe    Africa  1992   60.377  10704340  693.420786\n1701  Zimbabwe    Africa  1997   46.809  11404948  792.449960\n1702  Zimbabwe    Africa  2002   39.989  11926563  672.038623\n1703  Zimbabwe    Africa  2007   43.487  12311143  469.709298",
      "text/html": "<div>\n<style scoped>\n    .dataframe tbody tr th:only-of-type {\n        vertical-align: middle;\n    }\n\n    .dataframe tbody tr th {\n        vertical-align: top;\n    }\n\n    .dataframe thead th {\n        text-align: right;\n    }\n</style>\n<table border=\"1\" class=\"dataframe\">\n  <thead>\n    <tr style=\"text-align: right;\">\n      <th></th>\n      <th>country</th>\n      <th>continent</th>\n      <th>year</th>\n      <th>lifeExp</th>\n      <th>pop</th>\n      <th>gdpPercap</th>\n    </tr>\n  </thead>\n  <tbody>\n    <tr>\n      <th>1699</th>\n      <td>Zimbabwe</td>\n      <td>Africa</td>\n      <td>1987</td>\n      <td>62.351</td>\n      <td>9216418</td>\n      <td>706.157306</td>\n    </tr>\n    <tr>\n      <th>1700</th>\n      <td>Zimbabwe</td>\n      <td>Africa</td>\n      <td>1992</td>\n      <td>60.377</td>\n      <td>10704340</td>\n      <td>693.420786</td>\n    </tr>\n    <tr>\n      <th>1701</th>\n      <td>Zimbabwe</td>\n      <td>Africa</td>\n      <td>1997</td>\n      <td>46.809</td>\n      <td>11404948</td>\n      <td>792.449960</td>\n    </tr>\n    <tr>\n      <th>1702</th>\n      <td>Zimbabwe</td>\n      <td>Africa</td>\n      <td>2002</td>\n      <td>39.989</td>\n      <td>11926563</td>\n      <td>672.038623</td>\n    </tr>\n    <tr>\n      <th>1703</th>\n      <td>Zimbabwe</td>\n      <td>Africa</td>\n      <td>2007</td>\n      <td>43.487</td>\n      <td>12311143</td>\n      <td>469.709298</td>\n    </tr>\n  </tbody>\n</table>\n</div>"
     },
     "execution_count": 19,
     "metadata": {},
     "output_type": "execute_result"
    }
   ],
   "source": [
    "df.tail()"
   ],
   "metadata": {
    "collapsed": false,
    "pycharm": {
     "name": "#%%\n"
    }
   }
  },
  {
   "cell_type": "markdown",
   "metadata": {},
   "source": [
    ".shape shows us the shape of the dataframe. It prints the number of rows and columns."
   ]
  },
  {
   "cell_type": "code",
   "execution_count": 20,
   "metadata": {},
   "outputs": [
    {
     "data": {
      "text/plain": "(1704, 6)"
     },
     "execution_count": 20,
     "metadata": {},
     "output_type": "execute_result"
    }
   ],
   "source": [
    "df.shape"
   ]
  },
  {
   "cell_type": "markdown",
   "metadata": {},
   "source": [
    "To explore the data types we use the function .info().\n",
    "It displays for every column the non-null count and the datatype of the column."
   ]
  },
  {
   "cell_type": "code",
   "execution_count": 21,
   "metadata": {},
   "outputs": [
    {
     "name": "stdout",
     "output_type": "stream",
     "text": [
      "<class 'pandas.core.frame.DataFrame'>\n",
      "RangeIndex: 1704 entries, 0 to 1703\n",
      "Data columns (total 6 columns):\n",
      " #   Column     Non-Null Count  Dtype  \n",
      "---  ------     --------------  -----  \n",
      " 0   country    1704 non-null   object \n",
      " 1   continent  1704 non-null   object \n",
      " 2   year       1704 non-null   int64  \n",
      " 3   lifeExp    1704 non-null   float64\n",
      " 4   pop        1704 non-null   int64  \n",
      " 5   gdpPercap  1704 non-null   float64\n",
      "dtypes: float64(2), int64(2), object(2)\n",
      "memory usage: 80.0+ KB\n"
     ]
    }
   ],
   "source": [
    "df.info()"
   ]
  },
  {
   "cell_type": "markdown",
   "metadata": {},
   "source": [
    "With .describe we check basic statistics of our dataset like mean, count, etc."
   ]
  },
  {
   "cell_type": "code",
   "execution_count": 22,
   "metadata": {},
   "outputs": [
    {
     "data": {
      "text/plain": "             year      lifeExp           pop      gdpPercap\ncount  1704.00000  1704.000000  1.704000e+03    1704.000000\nmean   1979.50000    59.474439  2.960121e+07    7215.327081\nstd      17.26533    12.917107  1.061579e+08    9857.454543\nmin    1952.00000    23.599000  6.001100e+04     241.165876\n25%    1965.75000    48.198000  2.793664e+06    1202.060309\n50%    1979.50000    60.712500  7.023596e+06    3531.846988\n75%    1993.25000    70.845500  1.958522e+07    9325.462346\nmax    2007.00000    82.603000  1.318683e+09  113523.132900",
      "text/html": "<div>\n<style scoped>\n    .dataframe tbody tr th:only-of-type {\n        vertical-align: middle;\n    }\n\n    .dataframe tbody tr th {\n        vertical-align: top;\n    }\n\n    .dataframe thead th {\n        text-align: right;\n    }\n</style>\n<table border=\"1\" class=\"dataframe\">\n  <thead>\n    <tr style=\"text-align: right;\">\n      <th></th>\n      <th>year</th>\n      <th>lifeExp</th>\n      <th>pop</th>\n      <th>gdpPercap</th>\n    </tr>\n  </thead>\n  <tbody>\n    <tr>\n      <th>count</th>\n      <td>1704.00000</td>\n      <td>1704.000000</td>\n      <td>1.704000e+03</td>\n      <td>1704.000000</td>\n    </tr>\n    <tr>\n      <th>mean</th>\n      <td>1979.50000</td>\n      <td>59.474439</td>\n      <td>2.960121e+07</td>\n      <td>7215.327081</td>\n    </tr>\n    <tr>\n      <th>std</th>\n      <td>17.26533</td>\n      <td>12.917107</td>\n      <td>1.061579e+08</td>\n      <td>9857.454543</td>\n    </tr>\n    <tr>\n      <th>min</th>\n      <td>1952.00000</td>\n      <td>23.599000</td>\n      <td>6.001100e+04</td>\n      <td>241.165876</td>\n    </tr>\n    <tr>\n      <th>25%</th>\n      <td>1965.75000</td>\n      <td>48.198000</td>\n      <td>2.793664e+06</td>\n      <td>1202.060309</td>\n    </tr>\n    <tr>\n      <th>50%</th>\n      <td>1979.50000</td>\n      <td>60.712500</td>\n      <td>7.023596e+06</td>\n      <td>3531.846988</td>\n    </tr>\n    <tr>\n      <th>75%</th>\n      <td>1993.25000</td>\n      <td>70.845500</td>\n      <td>1.958522e+07</td>\n      <td>9325.462346</td>\n    </tr>\n    <tr>\n      <th>max</th>\n      <td>2007.00000</td>\n      <td>82.603000</td>\n      <td>1.318683e+09</td>\n      <td>113523.132900</td>\n    </tr>\n  </tbody>\n</table>\n</div>"
     },
     "execution_count": 22,
     "metadata": {},
     "output_type": "execute_result"
    }
   ],
   "source": [
    "df.describe()  # analyzes numberic numbers only\n",
    "# if other data types are there as well you can include it, here with object\n",
    "#df.describe(include=np.object)"
   ]
  },
  {
   "cell_type": "markdown",
   "metadata": {},
   "source": [
    ".value_counts() counts the number of the items of a specfic column."
   ]
  },
  {
   "cell_type": "code",
   "execution_count": 24,
   "metadata": {},
   "outputs": [
    {
     "data": {
      "text/plain": "Swaziland          12\nAlbania            12\nBenin              12\nBrazil             12\nSouth Africa       12\n                   ..\nSlovak Republic    12\nCuba               12\nChad               12\nSingapore          12\nVietnam            12\nName: country, Length: 142, dtype: int64"
     },
     "execution_count": 24,
     "metadata": {},
     "output_type": "execute_result"
    }
   ],
   "source": [
    "df['country'].value_counts()"
   ]
  },
  {
   "cell_type": "markdown",
   "metadata": {},
   "source": [
    ".unique() prints all unique values of a column."
   ]
  },
  {
   "cell_type": "code",
   "execution_count": 25,
   "metadata": {},
   "outputs": [
    {
     "data": {
      "text/plain": "array(['Afghanistan', 'Albania', 'Algeria', 'Angola', 'Argentina',\n       'Australia', 'Austria', 'Bahrain', 'Bangladesh', 'Belgium',\n       'Benin', 'Bolivia', 'Bosnia and Herzegovina', 'Botswana', 'Brazil',\n       'Bulgaria', 'Burkina Faso', 'Burundi', 'Cambodia', 'Cameroon',\n       'Canada', 'Central African Republic', 'Chad', 'Chile', 'China',\n       'Colombia', 'Comoros', 'Congo, Dem. Rep.', 'Congo, Rep.',\n       'Costa Rica', \"Cote d'Ivoire\", 'Croatia', 'Cuba', 'Czech Republic',\n       'Denmark', 'Djibouti', 'Dominican Republic', 'Ecuador', 'Egypt',\n       'El Salvador', 'Equatorial Guinea', 'Eritrea', 'Ethiopia',\n       'Finland', 'France', 'Gabon', 'Gambia', 'Germany', 'Ghana',\n       'Greece', 'Guatemala', 'Guinea', 'Guinea-Bissau', 'Haiti',\n       'Honduras', 'Hong Kong, China', 'Hungary', 'Iceland', 'India',\n       'Indonesia', 'Iran', 'Iraq', 'Ireland', 'Israel', 'Italy',\n       'Jamaica', 'Japan', 'Jordan', 'Kenya', 'Korea, Dem. Rep.',\n       'Korea, Rep.', 'Kuwait', 'Lebanon', 'Lesotho', 'Liberia', 'Libya',\n       'Madagascar', 'Malawi', 'Malaysia', 'Mali', 'Mauritania',\n       'Mauritius', 'Mexico', 'Mongolia', 'Montenegro', 'Morocco',\n       'Mozambique', 'Myanmar', 'Namibia', 'Nepal', 'Netherlands',\n       'New Zealand', 'Nicaragua', 'Niger', 'Nigeria', 'Norway', 'Oman',\n       'Pakistan', 'Panama', 'Paraguay', 'Peru', 'Philippines', 'Poland',\n       'Portugal', 'Puerto Rico', 'Reunion', 'Romania', 'Rwanda',\n       'Sao Tome and Principe', 'Saudi Arabia', 'Senegal', 'Serbia',\n       'Sierra Leone', 'Singapore', 'Slovak Republic', 'Slovenia',\n       'Somalia', 'South Africa', 'Spain', 'Sri Lanka', 'Sudan',\n       'Swaziland', 'Sweden', 'Switzerland', 'Syria', 'Taiwan',\n       'Tanzania', 'Thailand', 'Togo', 'Trinidad and Tobago', 'Tunisia',\n       'Turkey', 'Uganda', 'United Kingdom', 'United States', 'Uruguay',\n       'Venezuela', 'Vietnam', 'West Bank and Gaza', 'Yemen, Rep.',\n       'Zambia', 'Zimbabwe'], dtype=object)"
     },
     "execution_count": 25,
     "metadata": {},
     "output_type": "execute_result"
    }
   ],
   "source": [
    "df['country'].unique()"
   ]
  },
  {
   "cell_type": "markdown",
   "metadata": {},
   "source": [
    ".to_markdown() prints our dataframe as nice looking markdown table.\n",
    "\n",
    "Requires package tabulate: https://pypi.org/project/tabulate/"
   ]
  },
  {
   "cell_type": "code",
   "execution_count": 38,
   "metadata": {},
   "outputs": [
    {
     "name": "stdout",
     "output_type": "stream",
     "text": [
      "|    | country     | continent   |   year |   lifeExp |      pop |   gdpPercap |\n",
      "|---:|:------------|:------------|-------:|----------:|---------:|------------:|\n",
      "|  0 | Afghanistan | Asia        |   1952 |    28.801 |  8425333 |     779.445 |\n",
      "|  1 | Afghanistan | Asia        |   1957 |    30.332 |  9240934 |     820.853 |\n",
      "|  2 | Afghanistan | Asia        |   1962 |    31.997 | 10267083 |     853.101 |\n",
      "|  3 | Afghanistan | Asia        |   1967 |    34.02  | 11537966 |     836.197 |\n",
      "|  4 | Afghanistan | Asia        |   1972 |    36.088 | 13079460 |     739.981 |\n"
     ]
    }
   ],
   "source": [
    "from tabulate import tabulate\n",
    "print(df.head().to_markdown())"
   ]
  },
  {
   "cell_type": "code",
   "execution_count": 39,
   "outputs": [
    {
     "name": "stdout",
     "output_type": "stream",
     "text": [
      "+----+-------------+-------------+--------+-----------+----------+-------------+\n",
      "|    | country     | continent   |   year |   lifeExp |      pop |   gdpPercap |\n",
      "+====+=============+=============+========+===========+==========+=============+\n",
      "|  0 | Afghanistan | Asia        |   1952 |    28.801 |  8425333 |     779.445 |\n",
      "+----+-------------+-------------+--------+-----------+----------+-------------+\n",
      "|  1 | Afghanistan | Asia        |   1957 |    30.332 |  9240934 |     820.853 |\n",
      "+----+-------------+-------------+--------+-----------+----------+-------------+\n",
      "|  2 | Afghanistan | Asia        |   1962 |    31.997 | 10267083 |     853.101 |\n",
      "+----+-------------+-------------+--------+-----------+----------+-------------+\n",
      "|  3 | Afghanistan | Asia        |   1967 |    34.02  | 11537966 |     836.197 |\n",
      "+----+-------------+-------------+--------+-----------+----------+-------------+\n",
      "|  4 | Afghanistan | Asia        |   1972 |    36.088 | 13079460 |     739.981 |\n",
      "+----+-------------+-------------+--------+-----------+----------+-------------+\n"
     ]
    }
   ],
   "source": [
    "# we can change the tableformat\n",
    "print(df.head().to_markdown(tablefmt=\"grid\"))"
   ],
   "metadata": {
    "collapsed": false,
    "pycharm": {
     "name": "#%%\n"
    }
   }
  },
  {
   "cell_type": "markdown",
   "metadata": {},
   "source": [
    "The loc function empowers us to explore the pandas dataframe by selecting the index and column.\n",
    "If the index is set, use .loc to explore the dataset by index\n"
   ]
  },
  {
   "cell_type": "code",
   "execution_count": 45,
   "metadata": {},
   "outputs": [],
   "source": [
    "df.set_index('continent', inplace=True)"
   ]
  },
  {
   "cell_type": "markdown",
   "source": [
    "In this case, we select all rows where the index is \"Europe\""
   ],
   "metadata": {
    "collapsed": false
   }
  },
  {
   "cell_type": "code",
   "execution_count": 46,
   "outputs": [
    {
     "data": {
      "text/plain": "           year  lifeExp       pop     gdpPercap\ncontinent                                       \nEurope     1952   55.230   1282697   1601.056136\nEurope     1957   59.280   1476505   1942.284244\nEurope     1962   64.820   1728137   2312.888958\nEurope     1967   66.220   1984060   2760.196931\nEurope     1972   67.690   2263554   3313.422188\n...         ...      ...       ...           ...\nEurope     1987   75.007  56981620  21664.787670\nEurope     1992   76.420  57866349  22705.092540\nEurope     1997   77.218  58808266  26074.531360\nEurope     2002   78.471  59912431  29478.999190\nEurope     2007   79.425  60776238  33203.261280\n\n[360 rows x 4 columns]",
      "text/html": "<div>\n<style scoped>\n    .dataframe tbody tr th:only-of-type {\n        vertical-align: middle;\n    }\n\n    .dataframe tbody tr th {\n        vertical-align: top;\n    }\n\n    .dataframe thead th {\n        text-align: right;\n    }\n</style>\n<table border=\"1\" class=\"dataframe\">\n  <thead>\n    <tr style=\"text-align: right;\">\n      <th></th>\n      <th>year</th>\n      <th>lifeExp</th>\n      <th>pop</th>\n      <th>gdpPercap</th>\n    </tr>\n    <tr>\n      <th>continent</th>\n      <th></th>\n      <th></th>\n      <th></th>\n      <th></th>\n    </tr>\n  </thead>\n  <tbody>\n    <tr>\n      <th>Europe</th>\n      <td>1952</td>\n      <td>55.230</td>\n      <td>1282697</td>\n      <td>1601.056136</td>\n    </tr>\n    <tr>\n      <th>Europe</th>\n      <td>1957</td>\n      <td>59.280</td>\n      <td>1476505</td>\n      <td>1942.284244</td>\n    </tr>\n    <tr>\n      <th>Europe</th>\n      <td>1962</td>\n      <td>64.820</td>\n      <td>1728137</td>\n      <td>2312.888958</td>\n    </tr>\n    <tr>\n      <th>Europe</th>\n      <td>1967</td>\n      <td>66.220</td>\n      <td>1984060</td>\n      <td>2760.196931</td>\n    </tr>\n    <tr>\n      <th>Europe</th>\n      <td>1972</td>\n      <td>67.690</td>\n      <td>2263554</td>\n      <td>3313.422188</td>\n    </tr>\n    <tr>\n      <th>...</th>\n      <td>...</td>\n      <td>...</td>\n      <td>...</td>\n      <td>...</td>\n    </tr>\n    <tr>\n      <th>Europe</th>\n      <td>1987</td>\n      <td>75.007</td>\n      <td>56981620</td>\n      <td>21664.787670</td>\n    </tr>\n    <tr>\n      <th>Europe</th>\n      <td>1992</td>\n      <td>76.420</td>\n      <td>57866349</td>\n      <td>22705.092540</td>\n    </tr>\n    <tr>\n      <th>Europe</th>\n      <td>1997</td>\n      <td>77.218</td>\n      <td>58808266</td>\n      <td>26074.531360</td>\n    </tr>\n    <tr>\n      <th>Europe</th>\n      <td>2002</td>\n      <td>78.471</td>\n      <td>59912431</td>\n      <td>29478.999190</td>\n    </tr>\n    <tr>\n      <th>Europe</th>\n      <td>2007</td>\n      <td>79.425</td>\n      <td>60776238</td>\n      <td>33203.261280</td>\n    </tr>\n  </tbody>\n</table>\n<p>360 rows × 4 columns</p>\n</div>"
     },
     "execution_count": 46,
     "metadata": {},
     "output_type": "execute_result"
    }
   ],
   "source": [
    "df.loc['Europe']"
   ],
   "metadata": {
    "collapsed": false,
    "pycharm": {
     "name": "#%%\n"
    }
   }
  },
  {
   "cell_type": "markdown",
   "source": [
    "We can select multiple indexes:"
   ],
   "metadata": {
    "collapsed": false
   }
  },
  {
   "cell_type": "code",
   "execution_count": 47,
   "outputs": [
    {
     "data": {
      "text/plain": "           year  lifeExp       pop    gdpPercap\ncontinent                                      \nEurope     1952   55.230   1282697  1601.056136\nEurope     1957   59.280   1476505  1942.284244\nEurope     1962   64.820   1728137  2312.888958\nEurope     1967   66.220   1984060  2760.196931\nEurope     1972   67.690   2263554  3313.422188\n...         ...      ...       ...          ...\nAfrica     1987   62.351   9216418   706.157306\nAfrica     1992   60.377  10704340   693.420786\nAfrica     1997   46.809  11404948   792.449960\nAfrica     2002   39.989  11926563   672.038623\nAfrica     2007   43.487  12311143   469.709298\n\n[984 rows x 4 columns]",
      "text/html": "<div>\n<style scoped>\n    .dataframe tbody tr th:only-of-type {\n        vertical-align: middle;\n    }\n\n    .dataframe tbody tr th {\n        vertical-align: top;\n    }\n\n    .dataframe thead th {\n        text-align: right;\n    }\n</style>\n<table border=\"1\" class=\"dataframe\">\n  <thead>\n    <tr style=\"text-align: right;\">\n      <th></th>\n      <th>year</th>\n      <th>lifeExp</th>\n      <th>pop</th>\n      <th>gdpPercap</th>\n    </tr>\n    <tr>\n      <th>continent</th>\n      <th></th>\n      <th></th>\n      <th></th>\n      <th></th>\n    </tr>\n  </thead>\n  <tbody>\n    <tr>\n      <th>Europe</th>\n      <td>1952</td>\n      <td>55.230</td>\n      <td>1282697</td>\n      <td>1601.056136</td>\n    </tr>\n    <tr>\n      <th>Europe</th>\n      <td>1957</td>\n      <td>59.280</td>\n      <td>1476505</td>\n      <td>1942.284244</td>\n    </tr>\n    <tr>\n      <th>Europe</th>\n      <td>1962</td>\n      <td>64.820</td>\n      <td>1728137</td>\n      <td>2312.888958</td>\n    </tr>\n    <tr>\n      <th>Europe</th>\n      <td>1967</td>\n      <td>66.220</td>\n      <td>1984060</td>\n      <td>2760.196931</td>\n    </tr>\n    <tr>\n      <th>Europe</th>\n      <td>1972</td>\n      <td>67.690</td>\n      <td>2263554</td>\n      <td>3313.422188</td>\n    </tr>\n    <tr>\n      <th>...</th>\n      <td>...</td>\n      <td>...</td>\n      <td>...</td>\n      <td>...</td>\n    </tr>\n    <tr>\n      <th>Africa</th>\n      <td>1987</td>\n      <td>62.351</td>\n      <td>9216418</td>\n      <td>706.157306</td>\n    </tr>\n    <tr>\n      <th>Africa</th>\n      <td>1992</td>\n      <td>60.377</td>\n      <td>10704340</td>\n      <td>693.420786</td>\n    </tr>\n    <tr>\n      <th>Africa</th>\n      <td>1997</td>\n      <td>46.809</td>\n      <td>11404948</td>\n      <td>792.449960</td>\n    </tr>\n    <tr>\n      <th>Africa</th>\n      <td>2002</td>\n      <td>39.989</td>\n      <td>11926563</td>\n      <td>672.038623</td>\n    </tr>\n    <tr>\n      <th>Africa</th>\n      <td>2007</td>\n      <td>43.487</td>\n      <td>12311143</td>\n      <td>469.709298</td>\n    </tr>\n  </tbody>\n</table>\n<p>984 rows × 4 columns</p>\n</div>"
     },
     "execution_count": 47,
     "metadata": {},
     "output_type": "execute_result"
    }
   ],
   "source": [
    "df.loc[['Europe', 'Africa']]"
   ],
   "metadata": {
    "collapsed": false,
    "pycharm": {
     "name": "#%%\n"
    }
   }
  },
  {
   "cell_type": "markdown",
   "source": [
    "Additionally we can select columns:"
   ],
   "metadata": {
    "collapsed": false
   }
  },
  {
   "cell_type": "code",
   "execution_count": 49,
   "outputs": [
    {
     "data": {
      "text/plain": "           lifeExp       pop\ncontinent                   \nEurope      55.230   1282697\nEurope      59.280   1476505\nEurope      64.820   1728137\nEurope      66.220   1984060\nEurope      67.690   2263554\n...            ...       ...\nAfrica      62.351   9216418\nAfrica      60.377  10704340\nAfrica      46.809  11404948\nAfrica      39.989  11926563\nAfrica      43.487  12311143\n\n[984 rows x 2 columns]",
      "text/html": "<div>\n<style scoped>\n    .dataframe tbody tr th:only-of-type {\n        vertical-align: middle;\n    }\n\n    .dataframe tbody tr th {\n        vertical-align: top;\n    }\n\n    .dataframe thead th {\n        text-align: right;\n    }\n</style>\n<table border=\"1\" class=\"dataframe\">\n  <thead>\n    <tr style=\"text-align: right;\">\n      <th></th>\n      <th>lifeExp</th>\n      <th>pop</th>\n    </tr>\n    <tr>\n      <th>continent</th>\n      <th></th>\n      <th></th>\n    </tr>\n  </thead>\n  <tbody>\n    <tr>\n      <th>Europe</th>\n      <td>55.230</td>\n      <td>1282697</td>\n    </tr>\n    <tr>\n      <th>Europe</th>\n      <td>59.280</td>\n      <td>1476505</td>\n    </tr>\n    <tr>\n      <th>Europe</th>\n      <td>64.820</td>\n      <td>1728137</td>\n    </tr>\n    <tr>\n      <th>Europe</th>\n      <td>66.220</td>\n      <td>1984060</td>\n    </tr>\n    <tr>\n      <th>Europe</th>\n      <td>67.690</td>\n      <td>2263554</td>\n    </tr>\n    <tr>\n      <th>...</th>\n      <td>...</td>\n      <td>...</td>\n    </tr>\n    <tr>\n      <th>Africa</th>\n      <td>62.351</td>\n      <td>9216418</td>\n    </tr>\n    <tr>\n      <th>Africa</th>\n      <td>60.377</td>\n      <td>10704340</td>\n    </tr>\n    <tr>\n      <th>Africa</th>\n      <td>46.809</td>\n      <td>11404948</td>\n    </tr>\n    <tr>\n      <th>Africa</th>\n      <td>39.989</td>\n      <td>11926563</td>\n    </tr>\n    <tr>\n      <th>Africa</th>\n      <td>43.487</td>\n      <td>12311143</td>\n    </tr>\n  </tbody>\n</table>\n<p>984 rows × 2 columns</p>\n</div>"
     },
     "execution_count": 49,
     "metadata": {},
     "output_type": "execute_result"
    }
   ],
   "source": [
    "df.loc[['Europe', 'Africa'],['lifeExp', 'pop']]"
   ],
   "metadata": {
    "collapsed": false,
    "pycharm": {
     "name": "#%%\n"
    }
   }
  },
  {
   "cell_type": "markdown",
   "metadata": {
    "pycharm": {
     "name": "#%% md\n"
    }
   },
   "source": [
    "Columns can be also selected by range with \":\""
   ]
  },
  {
   "cell_type": "code",
   "execution_count": 50,
   "outputs": [
    {
     "data": {
      "text/plain": "           lifeExp       pop     gdpPercap\ncontinent                                 \nEurope      55.230   1282697   1601.056136\nEurope      59.280   1476505   1942.284244\nEurope      64.820   1728137   2312.888958\nEurope      66.220   1984060   2760.196931\nEurope      67.690   2263554   3313.422188\n...            ...       ...           ...\nEurope      75.007  56981620  21664.787670\nEurope      76.420  57866349  22705.092540\nEurope      77.218  58808266  26074.531360\nEurope      78.471  59912431  29478.999190\nEurope      79.425  60776238  33203.261280\n\n[360 rows x 3 columns]",
      "text/html": "<div>\n<style scoped>\n    .dataframe tbody tr th:only-of-type {\n        vertical-align: middle;\n    }\n\n    .dataframe tbody tr th {\n        vertical-align: top;\n    }\n\n    .dataframe thead th {\n        text-align: right;\n    }\n</style>\n<table border=\"1\" class=\"dataframe\">\n  <thead>\n    <tr style=\"text-align: right;\">\n      <th></th>\n      <th>lifeExp</th>\n      <th>pop</th>\n      <th>gdpPercap</th>\n    </tr>\n    <tr>\n      <th>continent</th>\n      <th></th>\n      <th></th>\n      <th></th>\n    </tr>\n  </thead>\n  <tbody>\n    <tr>\n      <th>Europe</th>\n      <td>55.230</td>\n      <td>1282697</td>\n      <td>1601.056136</td>\n    </tr>\n    <tr>\n      <th>Europe</th>\n      <td>59.280</td>\n      <td>1476505</td>\n      <td>1942.284244</td>\n    </tr>\n    <tr>\n      <th>Europe</th>\n      <td>64.820</td>\n      <td>1728137</td>\n      <td>2312.888958</td>\n    </tr>\n    <tr>\n      <th>Europe</th>\n      <td>66.220</td>\n      <td>1984060</td>\n      <td>2760.196931</td>\n    </tr>\n    <tr>\n      <th>Europe</th>\n      <td>67.690</td>\n      <td>2263554</td>\n      <td>3313.422188</td>\n    </tr>\n    <tr>\n      <th>...</th>\n      <td>...</td>\n      <td>...</td>\n      <td>...</td>\n    </tr>\n    <tr>\n      <th>Europe</th>\n      <td>75.007</td>\n      <td>56981620</td>\n      <td>21664.787670</td>\n    </tr>\n    <tr>\n      <th>Europe</th>\n      <td>76.420</td>\n      <td>57866349</td>\n      <td>22705.092540</td>\n    </tr>\n    <tr>\n      <th>Europe</th>\n      <td>77.218</td>\n      <td>58808266</td>\n      <td>26074.531360</td>\n    </tr>\n    <tr>\n      <th>Europe</th>\n      <td>78.471</td>\n      <td>59912431</td>\n      <td>29478.999190</td>\n    </tr>\n    <tr>\n      <th>Europe</th>\n      <td>79.425</td>\n      <td>60776238</td>\n      <td>33203.261280</td>\n    </tr>\n  </tbody>\n</table>\n<p>360 rows × 3 columns</p>\n</div>"
     },
     "execution_count": 50,
     "metadata": {},
     "output_type": "execute_result"
    }
   ],
   "source": [
    "df.loc[['Europe'], 'lifeExp':'gdpPercap']\n"
   ],
   "metadata": {
    "collapsed": false,
    "pycharm": {
     "name": "#%%\n"
    }
   }
  }
 ],
 "metadata": {
  "kernelspec": {
   "display_name": "Python 3",
   "language": "python",
   "name": "python3"
  },
  "language_info": {
   "codemirror_mode": {
    "name": "ipython",
    "version": 3
   },
   "file_extension": ".py",
   "mimetype": "text/x-python",
   "name": "python",
   "nbconvert_exporter": "python",
   "pygments_lexer": "ipython3",
   "version": "3.6.4"
  }
 },
 "nbformat": 4,
 "nbformat_minor": 2
}